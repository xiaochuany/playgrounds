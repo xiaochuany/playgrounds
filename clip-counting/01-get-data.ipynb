{
 "cells": [
  {
   "cell_type": "code",
   "execution_count": 2,
   "id": "732f09f4",
   "metadata": {},
   "outputs": [],
   "source": [
    "# install fastkaggle if not available\n",
    "try: import fastkaggle\n",
    "except ModuleNotFoundError:\n",
    "    !pip install -Uq fastkaggle\n",
    "\n",
    "from fastkaggle import *"
   ]
  },
  {
   "cell_type": "markdown",
   "id": "f0f21256",
   "metadata": {},
   "source": [
    "## Getting set up"
   ]
  },
  {
   "cell_type": "code",
   "execution_count": 3,
   "id": "70f2d75c",
   "metadata": {},
   "outputs": [],
   "source": [
    "comp = 'clip-counting-competition-s23'\n",
    "path = setup_comp(comp, install='')"
   ]
  },
  {
   "cell_type": "code",
   "execution_count": 4,
   "id": "879f9000",
   "metadata": {},
   "outputs": [
    {
     "data": {
      "text/plain": [
       "Path('clip-counting-competition-s23')"
      ]
     },
     "execution_count": 4,
     "metadata": {},
     "output_type": "execute_result"
    }
   ],
   "source": [
    "path"
   ]
  },
  {
   "cell_type": "code",
   "execution_count": 5,
   "id": "bc4f79cb-3e71-45fb-8f33-5c87dadce41e",
   "metadata": {},
   "outputs": [
    {
     "data": {
      "text/plain": [
       "(#6) [Path('clip-counting-competition-s23/sample_submision.csv'),Path('clip-counting-competition-s23/test_2'),Path('clip-counting-competition-s23/test.csv'),Path('clip-counting-competition-s23/test'),Path('clip-counting-competition-s23/train.csv'),Path('clip-counting-competition-s23/train')]"
      ]
     },
     "execution_count": 5,
     "metadata": {},
     "output_type": "execute_result"
    }
   ],
   "source": [
    "import pathlib\n",
    "pathlib.PATH_BASE path.ls()"
   ]
  },
  {
   "cell_type": "code",
   "execution_count": 9,
   "id": "d8d02d72-b6a2-4960-a9a1-188551be3557",
   "metadata": {},
   "outputs": [
    {
     "data": {
      "text/html": [
       "<div>\n",
       "<style scoped>\n",
       "    .dataframe tbody tr th:only-of-type {\n",
       "        vertical-align: middle;\n",
       "    }\n",
       "\n",
       "    .dataframe tbody tr th {\n",
       "        vertical-align: top;\n",
       "    }\n",
       "\n",
       "    .dataframe thead th {\n",
       "        text-align: right;\n",
       "    }\n",
       "</style>\n",
       "<table border=\"1\" class=\"dataframe\">\n",
       "  <thead>\n",
       "    <tr style=\"text-align: right;\">\n",
       "      <th></th>\n",
       "      <th>id</th>\n",
       "      <th>clip_count</th>\n",
       "    </tr>\n",
       "  </thead>\n",
       "  <tbody>\n",
       "    <tr>\n",
       "      <th>0</th>\n",
       "      <td>30001</td>\n",
       "      <td>11</td>\n",
       "    </tr>\n",
       "    <tr>\n",
       "      <th>1</th>\n",
       "      <td>30002</td>\n",
       "      <td>2</td>\n",
       "    </tr>\n",
       "    <tr>\n",
       "      <th>2</th>\n",
       "      <td>30003</td>\n",
       "      <td>26</td>\n",
       "    </tr>\n",
       "    <tr>\n",
       "      <th>3</th>\n",
       "      <td>30004</td>\n",
       "      <td>41</td>\n",
       "    </tr>\n",
       "    <tr>\n",
       "      <th>4</th>\n",
       "      <td>30005</td>\n",
       "      <td>49</td>\n",
       "    </tr>\n",
       "    <tr>\n",
       "      <th>...</th>\n",
       "      <td>...</td>\n",
       "      <td>...</td>\n",
       "    </tr>\n",
       "    <tr>\n",
       "      <th>14995</th>\n",
       "      <td>44996</td>\n",
       "      <td>29</td>\n",
       "    </tr>\n",
       "    <tr>\n",
       "      <th>14996</th>\n",
       "      <td>44997</td>\n",
       "      <td>1</td>\n",
       "    </tr>\n",
       "    <tr>\n",
       "      <th>14997</th>\n",
       "      <td>44998</td>\n",
       "      <td>57</td>\n",
       "    </tr>\n",
       "    <tr>\n",
       "      <th>14998</th>\n",
       "      <td>44999</td>\n",
       "      <td>53</td>\n",
       "    </tr>\n",
       "    <tr>\n",
       "      <th>14999</th>\n",
       "      <td>45000</td>\n",
       "      <td>55</td>\n",
       "    </tr>\n",
       "  </tbody>\n",
       "</table>\n",
       "<p>15000 rows × 2 columns</p>\n",
       "</div>"
      ],
      "text/plain": [
       "          id  clip_count\n",
       "0      30001          11\n",
       "1      30002           2\n",
       "2      30003          26\n",
       "3      30004          41\n",
       "4      30005          49\n",
       "...      ...         ...\n",
       "14995  44996          29\n",
       "14996  44997           1\n",
       "14997  44998          57\n",
       "14998  44999          53\n",
       "14999  45000          55\n",
       "\n",
       "[15000 rows x 2 columns]"
      ]
     },
     "execution_count": 9,
     "metadata": {},
     "output_type": "execute_result"
    }
   ],
   "source": [
    "import pandas as pd\n",
    "pd.read_csv(path/'train.csv')"
   ]
  },
  {
   "cell_type": "markdown",
   "id": "2ab26601",
   "metadata": {},
   "source": [
    "## Submitting to Kaggle"
   ]
  },
  {
   "cell_type": "code",
   "execution_count": 24,
   "id": "ed52342c",
   "metadata": {},
   "outputs": [
    {
     "name": "stderr",
     "output_type": "stream",
     "text": [
      "100%|██████████████████████████████████████████████████████| 164k/164k [00:00<00:00, 200kB/s]\n"
     ]
    }
   ],
   "source": [
    "if not iskaggle:\n",
    "    from kaggle import api\n",
    "    api.competition_submit_cli('subm.csv', 'initial log tf HistGBR', comp)"
   ]
  },
  {
   "cell_type": "markdown",
   "id": "e04efcc0",
   "metadata": {},
   "source": [
    "## Conclusion"
   ]
  },
  {
   "cell_type": "markdown",
   "id": "a972c10e",
   "metadata": {},
   "source": [
    "## Addendum"
   ]
  },
  {
   "cell_type": "code",
   "execution_count": 26,
   "id": "bd2148d7",
   "metadata": {},
   "outputs": [
    {
     "name": "stdout",
     "output_type": "stream",
     "text": [
      "Your kernel title does not resolve to the specified id. This may result in surprising behavior. We suggest making your title something that resolves to the specified id. See https://en.wikipedia.org/wiki/Clean_URL#Slug for more information on how slugs are determined.\n",
      "Kernel version 1 successfully pushed.  Please check progress at https://www.kaggle.com/code/xiaochuanyang/minmax-transform-and-histgbr-model\n"
     ]
    }
   ],
   "source": [
    "if not iskaggle:\n",
    "    push_notebook('xy', 'histgbr-minmax-transform',\n",
    "                  title='Minmax transform and HistGBR model',\n",
    "                  file='01-histgbr-minmax-transform.ipynb',\n",
    "                  competition=comp, private=False, gpu=False)"
   ]
  },
  {
   "cell_type": "code",
   "execution_count": null,
   "id": "29e901eb-2691-4216-a8f5-014ad9ea96f0",
   "metadata": {},
   "outputs": [],
   "source": []
  }
 ],
 "metadata": {
  "kernelspec": {
   "display_name": "Python 3 (ipykernel)",
   "language": "python",
   "name": "python3"
  },
  "language_info": {
   "codemirror_mode": {
    "name": "ipython",
    "version": 3
   },
   "file_extension": ".py",
   "mimetype": "text/x-python",
   "name": "python",
   "nbconvert_exporter": "python",
   "pygments_lexer": "ipython3",
   "version": "3.10.12"
  }
 },
 "nbformat": 4,
 "nbformat_minor": 5
}
