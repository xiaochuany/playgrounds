{
 "cells": [
  {
   "cell_type": "code",
   "execution_count": 1,
   "id": "732f09f4",
   "metadata": {},
   "outputs": [],
   "source": [
    "# install fastkaggle if not available\n",
    "try: import fastkaggle\n",
    "except ModuleNotFoundError:\n",
    "    !pip install -Uq fastkaggle\n",
    "\n",
    "from fastkaggle import *"
   ]
  },
  {
   "cell_type": "markdown",
   "id": "f0f21256",
   "metadata": {},
   "source": [
    "## Getting set up"
   ]
  },
  {
   "cell_type": "code",
   "execution_count": 2,
   "id": "70f2d75c",
   "metadata": {},
   "outputs": [],
   "source": [
    "comp = 'playground-series-s3e25'\n",
    "path = setup_comp(comp, install='')"
   ]
  },
  {
   "cell_type": "code",
   "execution_count": 3,
   "id": "879f9000",
   "metadata": {},
   "outputs": [
    {
     "data": {
      "text/plain": [
       "Path('playground-series-s3e25')"
      ]
     },
     "execution_count": 3,
     "metadata": {},
     "output_type": "execute_result"
    }
   ],
   "source": [
    "path"
   ]
  },
  {
   "cell_type": "code",
   "execution_count": 4,
   "id": "1c8e2512",
   "metadata": {},
   "outputs": [],
   "source": [
    "trn_path = path/'train.csv'"
   ]
  },
  {
   "cell_type": "code",
   "execution_count": 9,
   "id": "da67b27a-59d2-4f70-9a5e-40aadcc658e4",
   "metadata": {
    "tags": []
   },
   "outputs": [],
   "source": [
    "import numpy as np, pandas as pd\n",
    "from sklearn.preprocessing import StandardScaler, RobustScaler, MinMaxScaler, FunctionTransformer, QuantileTransformer\n",
    "from sklearn.compose import make_column_transformer, make_column_selector\n",
    "from sklearn.pipeline import make_pipeline\n",
    "from sklearn.model_selection import train_test_split, RandomizedSearchCV\n",
    "from sklearn.ensemble import HistGradientBoostingRegressor\n",
    "from sklearn.neural_network import MLPRegressor\n",
    "from sklearn.metrics import make_scorer, mean_absolute_error, median_absolute_error as medae\n",
    "from scipy.stats import loguniform"
   ]
  },
  {
   "cell_type": "code",
   "execution_count": 13,
   "id": "c8df3cdf-08ce-499d-91f6-0c7351eeee0f",
   "metadata": {},
   "outputs": [],
   "source": [
    "df = pd.read_csv(trn_path)\n",
    "X = df.iloc[:,1:-1] # drop id and target\n",
    "y = df.iloc[:,-1]\n",
    "X_tr, X_dev, y_tr, y_dev = train_test_split(X,y,test_size=0.2) # XXyy"
   ]
  },
  {
   "cell_type": "code",
   "execution_count": 25,
   "id": "1ac4aa9b-1f58-494d-964b-d32e41caa227",
   "metadata": {},
   "outputs": [
    {
     "data": {
      "text/plain": [
       "0.7331671176816572"
      ]
     },
     "execution_count": 25,
     "metadata": {},
     "output_type": "execute_result"
    }
   ],
   "source": [
    "scaler = StandardScaler()\n",
    "model = MLPRegressor(max_iter=4000, hidden_layer_sizes=(64,32,16))\n",
    "pipe = make_pipeline(scaler,model)\n",
    "pipe.fit(X_tr,y_tr)\n",
    "medae(pipe.predict(X_dev), y_dev)"
   ]
  },
  {
   "cell_type": "markdown",
   "id": "2ab26601",
   "metadata": {},
   "source": [
    "## Submitting to Kaggle"
   ]
  },
  {
   "cell_type": "code",
   "execution_count": 27,
   "id": "bf2ea997-1fcd-406b-9662-58309f994b63",
   "metadata": {},
   "outputs": [],
   "source": [
    "ss = pd.read_csv(path/'sample_submission.csv')"
   ]
  },
  {
   "cell_type": "code",
   "execution_count": 28,
   "id": "599e5063-f6d5-40b4-a213-2ab7749d3228",
   "metadata": {},
   "outputs": [],
   "source": [
    "tst = pd.read_csv(path/'test.csv')"
   ]
  },
  {
   "cell_type": "code",
   "execution_count": 29,
   "id": "a5559067-1234-44af-a90c-f04fdb583d26",
   "metadata": {},
   "outputs": [],
   "source": [
    "ss['Hardness'] = pipe.predict(tst.iloc[:,1:])"
   ]
  },
  {
   "cell_type": "code",
   "execution_count": 30,
   "id": "480b7cae-7c65-49a9-81e9-1fd772ac76f2",
   "metadata": {},
   "outputs": [
    {
     "name": "stdout",
     "output_type": "stream",
     "text": [
      "id,Hardness\n",
      "10407,2.2447038862580264\n",
      "10408,2.9816768410094707\n",
      "10409,6.057493409630426\n",
      "10410,4.0252023999737645\n",
      "10411,6.180580306667615\n",
      "10412,4.6798035133943365\n",
      "10413,3.7570595169337735\n",
      "10414,5.385486430590966\n",
      "10415,3.173753209604238\n"
     ]
    }
   ],
   "source": [
    "ss.to_csv('subm.csv', index=False)\n",
    "!head subm.csv"
   ]
  },
  {
   "cell_type": "code",
   "execution_count": 31,
   "id": "ed52342c",
   "metadata": {},
   "outputs": [
    {
     "name": "stderr",
     "output_type": "stream",
     "text": [
      "100%|███████████████████████████████████████████████████████| 164k/164k [00:00<00:00, 185kB/s]\n"
     ]
    }
   ],
   "source": [
    "if not iskaggle:\n",
    "    from kaggle import api\n",
    "    api.competition_submit_cli('subm.csv', 'MLP', comp)"
   ]
  },
  {
   "cell_type": "markdown",
   "id": "e04efcc0",
   "metadata": {},
   "source": [
    "## Conclusion"
   ]
  },
  {
   "cell_type": "markdown",
   "id": "a972c10e",
   "metadata": {},
   "source": [
    "## Addendum"
   ]
  },
  {
   "cell_type": "code",
   "execution_count": null,
   "id": "bd2148d7",
   "metadata": {},
   "outputs": [],
   "source": [
    "if not iskaggle:\n",
    "    push_notebook('xy', 'mock-first-steps-road-to-the-top-part-1',\n",
    "                  title='mock First Steps: Road to the Top, Part 1',\n",
    "                  file='mock-first-steps-road-to-the-top-part-1.ipynb',\n",
    "                  competition=comp, private=False, gpu=True)"
   ]
  },
  {
   "cell_type": "code",
   "execution_count": null,
   "id": "29e901eb-2691-4216-a8f5-014ad9ea96f0",
   "metadata": {},
   "outputs": [],
   "source": []
  }
 ],
 "metadata": {
  "kernelspec": {
   "display_name": "Python 3 (ipykernel)",
   "language": "python",
   "name": "python3"
  },
  "language_info": {
   "codemirror_mode": {
    "name": "ipython",
    "version": 3
   },
   "file_extension": ".py",
   "mimetype": "text/x-python",
   "name": "python",
   "nbconvert_exporter": "python",
   "pygments_lexer": "ipython3",
   "version": "3.10.12"
  }
 },
 "nbformat": 4,
 "nbformat_minor": 5
}
