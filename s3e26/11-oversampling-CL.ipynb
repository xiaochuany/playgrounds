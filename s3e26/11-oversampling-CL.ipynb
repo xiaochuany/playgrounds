{
 "cells": [
  {
   "cell_type": "code",
   "execution_count": null,
   "id": "732f09f4",
   "metadata": {},
   "outputs": [],
   "source": [
    "# install fastkaggle if not available\n",
    "try: import fastkaggle\n",
    "except ModuleNotFoundError:\n",
    "    !pip install -Uq fastkaggle\n",
    "\n",
    "from fastkaggle import *"
   ]
  },
  {
   "cell_type": "markdown",
   "id": "f0f21256",
   "metadata": {},
   "source": [
    "## Getting set up"
   ]
  },
  {
   "cell_type": "code",
   "execution_count": null,
   "id": "70f2d75c",
   "metadata": {},
   "outputs": [],
   "source": [
    "comp = 'playground-series-s3e26'\n",
    "path = setup_comp(comp, install='')"
   ]
  },
  {
   "cell_type": "code",
   "execution_count": null,
   "id": "879f9000",
   "metadata": {},
   "outputs": [
    {
     "data": {
      "text/plain": [
       "Path('playground-series-s3e26')"
      ]
     },
     "execution_count": null,
     "metadata": {},
     "output_type": "execute_result"
    }
   ],
   "source": [
    "path"
   ]
  },
  {
   "cell_type": "code",
   "execution_count": null,
   "id": "1c8e2512",
   "metadata": {},
   "outputs": [],
   "source": [
    "trn_path = path/'train.csv'"
   ]
  },
  {
   "cell_type": "code",
   "execution_count": null,
   "id": "199ddfda-36a7-4c1e-92b9-4da9370ebe4d",
   "metadata": {},
   "outputs": [],
   "source": [
    "# add data in first run\n",
    "# get_dataset(path, 'joebeachcapital/cirrhosis-patient-survival-prediction', force=True)"
   ]
  },
  {
   "cell_type": "code",
   "execution_count": null,
   "id": "53eef354-27a0-4f22-8ded-70b3e8ff0df2",
   "metadata": {},
   "outputs": [],
   "source": [
    "import pandas as pd\n",
    "import numpy as np\n",
    "from sklearn.preprocessing import StandardScaler, RobustScaler, MinMaxScaler, FunctionTransformer, OneHotEncoder\n",
    "from sklearn.compose import make_column_transformer, make_column_selector\n",
    "from sklearn.pipeline import make_pipeline\n",
    "from sklearn.model_selection import train_test_split, RandomizedSearchCV, StratifiedKFold, cross_val_score, cross_validate, KFold\n",
    "from sklearn.ensemble import HistGradientBoostingRegressor, HistGradientBoostingClassifier\n",
    "from sklearn.metrics import make_scorer, mean_absolute_error, classification_report, log_loss\n",
    "from sklearn.utils import resample\n",
    "from scipy.stats import loguniform\n",
    "\n",
    "from lightgbm import LGBMRegressor, LGBMClassifier, log_evaluation, early_stopping\n",
    "from xgboost import XGBRegressor, XGBClassifier\n",
    "from tqdm import tqdm"
   ]
  },
  {
   "cell_type": "code",
   "execution_count": null,
   "id": "bca6b1cb-c469-4743-94bd-1b1a0b72d7f5",
   "metadata": {},
   "outputs": [],
   "source": [
    "def preprocess(df, train=False):\n",
    "    df_ = df.copy()\n",
    "    df_.Edema = df_.Edema.map({'S':'Y', 'N':'N', 'Y':'Y'}) # must map all keys\n",
    "    df_['is_gen']='Y'\n",
    "    if train:\n",
    "        df1 = pd.read_csv(path/'cirrhosis.csv') # original data based on which the dataset is synthesized\n",
    "        df1 = pd.concat([df1.drop('Status', axis=1), df1['Status']], axis=1) # move status to last col, same as df_\n",
    "        df1['is_gen']='N'\n",
    "        df1.columns = df_.columns\n",
    "        df_ = pd.concat([df_,df1], axis=0).reset_index(drop=True)\n",
    "    return df_\n",
    "    \n",
    "def cv(X,y,cv=10):\n",
    "    clf = HistGradientBoostingClassifier(max_iter=10000, early_stopping=True, max_depth=9, n_iter_no_change=80,\n",
    "                                       l2_regularization=0, learning_rate=0.003)\n",
    "    ct = make_column_transformer(\n",
    "                (StandardScaler(), make_column_selector(dtype_include = np.number)),\n",
    "                (OneHotEncoder(drop='if_binary', handle_unknown='ignore'), make_column_selector(dtype_include=object)), \n",
    "                remainder = 'passthrough')\n",
    "    model = make_pipeline(ct, clf)\n",
    "    return cross_validate(model, X, y, cv=cv, scoring='neg_log_loss', return_estimator=True)"
   ]
  },
  {
   "cell_type": "code",
   "execution_count": null,
   "id": "191d6bdf-3541-45aa-99a4-10fff1f4842f",
   "metadata": {},
   "outputs": [],
   "source": [
    "df = preprocess(pd.read_csv(trn_path),train=True)"
   ]
  },
  {
   "cell_type": "code",
   "execution_count": null,
   "id": "d180c751-2589-4c55-bdc3-9974f7962ef0",
   "metadata": {},
   "outputs": [],
   "source": [
    "def oversample(df, factor=5):\n",
    "    df_ = df.copy()\n",
    "    CL = df_[df_.Status=='CL']\n",
    "    return pd.concat([df_[df_.Status!=\"CL\"], resample(CL, replace=True, n_samples=len(CL)*factor)], axis=0)"
   ]
  },
  {
   "cell_type": "code",
   "execution_count": null,
   "id": "06c585aa-43a8-4720-b57f-70679f84c54a",
   "metadata": {},
   "outputs": [],
   "source": [
    "df = oversample(df,8)\n",
    "X, y = df.drop('Status', axis=1).iloc[:,1:], df['Status']"
   ]
  },
  {
   "cell_type": "code",
   "execution_count": null,
   "id": "525d322c-69b3-4324-a24d-8d151b54d485",
   "metadata": {},
   "outputs": [],
   "source": [
    "cv_output = cv(X,y,10)"
   ]
  },
  {
   "cell_type": "code",
   "execution_count": null,
   "id": "bcc04f8d-7a2a-4433-907a-348db1906775",
   "metadata": {},
   "outputs": [
    {
     "data": {
      "text/plain": [
       "[4457, 4538, 3383, 5048, 4775, 3958, 3888, 4967, 3788, 4230]"
      ]
     },
     "execution_count": null,
     "metadata": {},
     "output_type": "execute_result"
    }
   ],
   "source": [
    "[est[-1].n_iter_ for est in cv_output['estimator']]"
   ]
  },
  {
   "cell_type": "code",
   "execution_count": null,
   "id": "41c1ddd0-075c-480e-a5d2-a12d863611e7",
   "metadata": {},
   "outputs": [
    {
     "data": {
      "text/plain": [
       "(0.4250276975424835, 0.3062302852316274)"
      ]
     },
     "execution_count": null,
     "metadata": {},
     "output_type": "execute_result"
    }
   ],
   "source": [
    "-cv_output['test_score'].mean(), cv_output['test_score'].std()"
   ]
  },
  {
   "cell_type": "markdown",
   "id": "2ab26601",
   "metadata": {},
   "source": [
    "## Submitting to Kaggle"
   ]
  },
  {
   "cell_type": "code",
   "execution_count": null,
   "id": "55cd25e5",
   "metadata": {},
   "outputs": [
    {
     "data": {
      "text/html": [
       "<div>\n",
       "<style scoped>\n",
       "    .dataframe tbody tr th:only-of-type {\n",
       "        vertical-align: middle;\n",
       "    }\n",
       "\n",
       "    .dataframe tbody tr th {\n",
       "        vertical-align: top;\n",
       "    }\n",
       "\n",
       "    .dataframe thead th {\n",
       "        text-align: right;\n",
       "    }\n",
       "</style>\n",
       "<table border=\"1\" class=\"dataframe\">\n",
       "  <thead>\n",
       "    <tr style=\"text-align: right;\">\n",
       "      <th></th>\n",
       "      <th>id</th>\n",
       "      <th>Status_C</th>\n",
       "      <th>Status_CL</th>\n",
       "      <th>Status_D</th>\n",
       "    </tr>\n",
       "  </thead>\n",
       "  <tbody>\n",
       "    <tr>\n",
       "      <th>0</th>\n",
       "      <td>7905</td>\n",
       "      <td>0.628084</td>\n",
       "      <td>0.034788</td>\n",
       "      <td>0.337128</td>\n",
       "    </tr>\n",
       "    <tr>\n",
       "      <th>1</th>\n",
       "      <td>7906</td>\n",
       "      <td>0.628084</td>\n",
       "      <td>0.034788</td>\n",
       "      <td>0.337128</td>\n",
       "    </tr>\n",
       "    <tr>\n",
       "      <th>2</th>\n",
       "      <td>7907</td>\n",
       "      <td>0.628084</td>\n",
       "      <td>0.034788</td>\n",
       "      <td>0.337128</td>\n",
       "    </tr>\n",
       "    <tr>\n",
       "      <th>3</th>\n",
       "      <td>7908</td>\n",
       "      <td>0.628084</td>\n",
       "      <td>0.034788</td>\n",
       "      <td>0.337128</td>\n",
       "    </tr>\n",
       "    <tr>\n",
       "      <th>4</th>\n",
       "      <td>7909</td>\n",
       "      <td>0.628084</td>\n",
       "      <td>0.034788</td>\n",
       "      <td>0.337128</td>\n",
       "    </tr>\n",
       "  </tbody>\n",
       "</table>\n",
       "</div>"
      ],
      "text/plain": [
       "     id  Status_C  Status_CL  Status_D\n",
       "0  7905  0.628084   0.034788  0.337128\n",
       "1  7906  0.628084   0.034788  0.337128\n",
       "2  7907  0.628084   0.034788  0.337128\n",
       "3  7908  0.628084   0.034788  0.337128\n",
       "4  7909  0.628084   0.034788  0.337128"
      ]
     },
     "execution_count": null,
     "metadata": {},
     "output_type": "execute_result"
    }
   ],
   "source": [
    "ss = pd.read_csv(path/'sample_submission.csv')\n",
    "ss.head()"
   ]
  },
  {
   "cell_type": "code",
   "execution_count": null,
   "id": "266c32e1-a7cc-43b7-ac8b-cc0a8a5c8fa4",
   "metadata": {},
   "outputs": [
    {
     "data": {
      "text/html": [
       "<div>\n",
       "<style scoped>\n",
       "    .dataframe tbody tr th:only-of-type {\n",
       "        vertical-align: middle;\n",
       "    }\n",
       "\n",
       "    .dataframe tbody tr th {\n",
       "        vertical-align: top;\n",
       "    }\n",
       "\n",
       "    .dataframe thead th {\n",
       "        text-align: right;\n",
       "    }\n",
       "</style>\n",
       "<table border=\"1\" class=\"dataframe\">\n",
       "  <thead>\n",
       "    <tr style=\"text-align: right;\">\n",
       "      <th></th>\n",
       "      <th>id</th>\n",
       "      <th>N_Days</th>\n",
       "      <th>Drug</th>\n",
       "      <th>Age</th>\n",
       "      <th>Sex</th>\n",
       "      <th>Ascites</th>\n",
       "      <th>Hepatomegaly</th>\n",
       "      <th>Spiders</th>\n",
       "      <th>Edema</th>\n",
       "      <th>Bilirubin</th>\n",
       "      <th>Cholesterol</th>\n",
       "      <th>Albumin</th>\n",
       "      <th>Copper</th>\n",
       "      <th>Alk_Phos</th>\n",
       "      <th>SGOT</th>\n",
       "      <th>Tryglicerides</th>\n",
       "      <th>Platelets</th>\n",
       "      <th>Prothrombin</th>\n",
       "      <th>Stage</th>\n",
       "      <th>is_gen</th>\n",
       "    </tr>\n",
       "  </thead>\n",
       "  <tbody>\n",
       "    <tr>\n",
       "      <th>0</th>\n",
       "      <td>7905</td>\n",
       "      <td>3839</td>\n",
       "      <td>D-penicillamine</td>\n",
       "      <td>19724</td>\n",
       "      <td>F</td>\n",
       "      <td>N</td>\n",
       "      <td>Y</td>\n",
       "      <td>N</td>\n",
       "      <td>N</td>\n",
       "      <td>1.2</td>\n",
       "      <td>546.0</td>\n",
       "      <td>3.37</td>\n",
       "      <td>65.0</td>\n",
       "      <td>1636.0</td>\n",
       "      <td>151.90</td>\n",
       "      <td>90.0</td>\n",
       "      <td>430.0</td>\n",
       "      <td>10.6</td>\n",
       "      <td>2.0</td>\n",
       "      <td>Y</td>\n",
       "    </tr>\n",
       "    <tr>\n",
       "      <th>1</th>\n",
       "      <td>7906</td>\n",
       "      <td>2468</td>\n",
       "      <td>D-penicillamine</td>\n",
       "      <td>14975</td>\n",
       "      <td>F</td>\n",
       "      <td>N</td>\n",
       "      <td>N</td>\n",
       "      <td>N</td>\n",
       "      <td>N</td>\n",
       "      <td>1.1</td>\n",
       "      <td>660.0</td>\n",
       "      <td>4.22</td>\n",
       "      <td>94.0</td>\n",
       "      <td>1257.0</td>\n",
       "      <td>151.90</td>\n",
       "      <td>155.0</td>\n",
       "      <td>227.0</td>\n",
       "      <td>10.0</td>\n",
       "      <td>2.0</td>\n",
       "      <td>Y</td>\n",
       "    </tr>\n",
       "    <tr>\n",
       "      <th>2</th>\n",
       "      <td>7907</td>\n",
       "      <td>51</td>\n",
       "      <td>Placebo</td>\n",
       "      <td>13149</td>\n",
       "      <td>F</td>\n",
       "      <td>N</td>\n",
       "      <td>Y</td>\n",
       "      <td>N</td>\n",
       "      <td>Y</td>\n",
       "      <td>2.0</td>\n",
       "      <td>151.0</td>\n",
       "      <td>2.96</td>\n",
       "      <td>46.0</td>\n",
       "      <td>961.0</td>\n",
       "      <td>69.75</td>\n",
       "      <td>101.0</td>\n",
       "      <td>213.0</td>\n",
       "      <td>13.0</td>\n",
       "      <td>4.0</td>\n",
       "      <td>Y</td>\n",
       "    </tr>\n",
       "    <tr>\n",
       "      <th>3</th>\n",
       "      <td>7908</td>\n",
       "      <td>2330</td>\n",
       "      <td>D-penicillamine</td>\n",
       "      <td>20510</td>\n",
       "      <td>F</td>\n",
       "      <td>N</td>\n",
       "      <td>N</td>\n",
       "      <td>N</td>\n",
       "      <td>N</td>\n",
       "      <td>0.6</td>\n",
       "      <td>293.0</td>\n",
       "      <td>3.85</td>\n",
       "      <td>40.0</td>\n",
       "      <td>554.0</td>\n",
       "      <td>125.55</td>\n",
       "      <td>56.0</td>\n",
       "      <td>270.0</td>\n",
       "      <td>10.6</td>\n",
       "      <td>2.0</td>\n",
       "      <td>Y</td>\n",
       "    </tr>\n",
       "    <tr>\n",
       "      <th>4</th>\n",
       "      <td>7909</td>\n",
       "      <td>1615</td>\n",
       "      <td>D-penicillamine</td>\n",
       "      <td>21904</td>\n",
       "      <td>F</td>\n",
       "      <td>N</td>\n",
       "      <td>Y</td>\n",
       "      <td>N</td>\n",
       "      <td>N</td>\n",
       "      <td>1.4</td>\n",
       "      <td>277.0</td>\n",
       "      <td>2.97</td>\n",
       "      <td>121.0</td>\n",
       "      <td>1110.0</td>\n",
       "      <td>125.00</td>\n",
       "      <td>126.0</td>\n",
       "      <td>221.0</td>\n",
       "      <td>9.8</td>\n",
       "      <td>1.0</td>\n",
       "      <td>Y</td>\n",
       "    </tr>\n",
       "  </tbody>\n",
       "</table>\n",
       "</div>"
      ],
      "text/plain": [
       "     id  N_Days             Drug    Age Sex Ascites Hepatomegaly Spiders  \\\n",
       "0  7905    3839  D-penicillamine  19724   F       N            Y       N   \n",
       "1  7906    2468  D-penicillamine  14975   F       N            N       N   \n",
       "2  7907      51          Placebo  13149   F       N            Y       N   \n",
       "3  7908    2330  D-penicillamine  20510   F       N            N       N   \n",
       "4  7909    1615  D-penicillamine  21904   F       N            Y       N   \n",
       "\n",
       "  Edema  Bilirubin  Cholesterol  Albumin  Copper  Alk_Phos    SGOT  \\\n",
       "0     N        1.2        546.0     3.37    65.0    1636.0  151.90   \n",
       "1     N        1.1        660.0     4.22    94.0    1257.0  151.90   \n",
       "2     Y        2.0        151.0     2.96    46.0     961.0   69.75   \n",
       "3     N        0.6        293.0     3.85    40.0     554.0  125.55   \n",
       "4     N        1.4        277.0     2.97   121.0    1110.0  125.00   \n",
       "\n",
       "   Tryglicerides  Platelets  Prothrombin  Stage is_gen  \n",
       "0           90.0      430.0         10.6    2.0      Y  \n",
       "1          155.0      227.0         10.0    2.0      Y  \n",
       "2          101.0      213.0         13.0    4.0      Y  \n",
       "3           56.0      270.0         10.6    2.0      Y  \n",
       "4          126.0      221.0          9.8    1.0      Y  "
      ]
     },
     "execution_count": null,
     "metadata": {},
     "output_type": "execute_result"
    }
   ],
   "source": [
    "tst = preprocess(pd.read_csv(path/'test.csv'))\n",
    "tst.head()"
   ]
  },
  {
   "cell_type": "code",
   "execution_count": null,
   "id": "48406c30-8f65-41e2-89d9-b7d888179b45",
   "metadata": {},
   "outputs": [],
   "source": [
    "tst_pred = np.stack([est.predict_proba(tst.iloc[:,1:]) for est in cv_output['estimator']]).mean(0)"
   ]
  },
  {
   "cell_type": "code",
   "execution_count": null,
   "id": "e91d57bd-d75a-4936-a374-6ec7f1a4611d",
   "metadata": {},
   "outputs": [],
   "source": [
    "ss.iloc[:,1:] = tst_pred"
   ]
  },
  {
   "cell_type": "code",
   "execution_count": null,
   "id": "35172dac-97be-425c-b3db-a73e7950e2d2",
   "metadata": {},
   "outputs": [
    {
     "name": "stdout",
     "output_type": "stream",
     "text": [
      "id,Status_C,Status_CL,Status_D\n",
      "7905,0.5137040434978078,0.016504467415852618,0.4697914890863396\n",
      "7906,0.36336544808845916,0.21474530459780947,0.2071439427159219\n",
      "7907,0.009832137138413138,0.0009652784006709124,0.989202584460916\n",
      "7908,0.9668180274769981,0.0048868638880181225,0.028295108634983756\n",
      "7909,0.8808286279670143,0.04488065362433995,0.07429071840864558\n",
      "7910,0.9986942117008211,9.590560076788086e-05,0.0012098826984110248\n",
      "7911,0.9914207119821441,0.0004561529535495925,0.008123135064306241\n",
      "7912,0.04475098250017007,0.03286943085267366,0.922379586647156\n",
      "7913,0.0006175051879040318,8.818633318171742e-06,0.9993736761787776\n"
     ]
    }
   ],
   "source": [
    "ss.to_csv('subm.csv', index=False)\n",
    "!head subm.csv"
   ]
  },
  {
   "cell_type": "code",
   "execution_count": null,
   "id": "ed52342c",
   "metadata": {},
   "outputs": [
    {
     "name": "stderr",
     "output_type": "stream",
     "text": [
      "100%|█████████████████████| 340k/340k [00:00<00:00, 383kB/s]\n"
     ]
    }
   ],
   "source": [
    "if not iskaggle:\n",
    "    from kaggle import api\n",
    "    api.competition_submit_cli('subm.csv', 'refactored code oversampling CL 5X', comp)"
   ]
  },
  {
   "cell_type": "code",
   "execution_count": null,
   "id": "edd13603-4378-4cf3-8140-ab4e9313df29",
   "metadata": {},
   "outputs": [],
   "source": [
    "tst_labels = tst_pred.argmax(axis=1)"
   ]
  },
  {
   "cell_type": "code",
   "execution_count": null,
   "id": "3109d74f-5519-4e46-b339-a5adeb311f81",
   "metadata": {},
   "outputs": [],
   "source": [
    "mask_cl = (tst_labels==1)"
   ]
  },
  {
   "cell_type": "code",
   "execution_count": null,
   "id": "398d4231-f127-4c34-8eed-56adaf9dfe2f",
   "metadata": {},
   "outputs": [],
   "source": [
    "tst_pred[mask_cl,1]/=2"
   ]
  },
  {
   "cell_type": "code",
   "execution_count": null,
   "id": "f0f361c3-8ca6-42db-998c-ad6a52333247",
   "metadata": {},
   "outputs": [
    {
     "name": "stdout",
     "output_type": "stream",
     "text": [
      "id,Status_C,Status_CL,Status_D\n",
      "7905,0.6585967923278477,0.0236105280569404,0.3177926796152118\n",
      "7906,0.6583920450680791,0.1489046351929898,0.1927033197389311\n",
      "7907,0.0297697604846401,0.0076887934700313,0.9625414460453284\n",
      "7908,0.947984252090274,0.0054536217775073,0.0465621261322187\n",
      "7909,0.8485589127577186,0.0201340869956581,0.1313070002466234\n",
      "7910,0.989160120181628,0.0010090498024869,0.0098308300158848\n",
      "7911,0.971822705243557,0.0022693255443414,0.0259079692121016\n",
      "7912,0.24390630777922,0.0152947745463511,0.740798917674429\n",
      "7913,0.0139341569112578,0.0010213726670546,0.9850444704216874\n"
     ]
    }
   ],
   "source": [
    "best_so_far = pd.read_csv('subm.csv', index_col='id').to_numpy()\n",
    "best_so_far_mask = (best_so_far.argmax(axis=1) == 1)\n",
    "best_so_far[best_so_far_mask,1]/=2\n",
    "ss.iloc[:,1:] = best_so_far\n",
    "ss.to_csv('subm.csv', index=False)\n",
    "!head subm.csv"
   ]
  },
  {
   "cell_type": "code",
   "execution_count": null,
   "id": "b58b0eda-dbed-48cf-8b12-914a161e8b5e",
   "metadata": {},
   "outputs": [
    {
     "name": "stderr",
     "output_type": "stream",
     "text": [
      "100%|█████████████████████| 320k/320k [00:01<00:00, 324kB/s]\n"
     ]
    }
   ],
   "source": [
    "if not iskaggle:\n",
    "    from kaggle import api\n",
    "    api.competition_submit_cli('subm.csv', 'refactored code oversampling CL 8X MOD', comp)"
   ]
  },
  {
   "cell_type": "markdown",
   "id": "e04efcc0",
   "metadata": {},
   "source": [
    "## Conclusion\n",
    "\n",
    "No help to PB. The decrease in loss is due to the fact that there are identical samples in both train and test of each split due to sampling (8X here, less significant decrese in loss when resample 5X).  "
   ]
  },
  {
   "cell_type": "markdown",
   "id": "a972c10e",
   "metadata": {},
   "source": [
    "## Addendum"
   ]
  },
  {
   "cell_type": "code",
   "execution_count": null,
   "id": "bd2148d7",
   "metadata": {},
   "outputs": [
    {
     "name": "stdout",
     "output_type": "stream",
     "text": [
      "Your kernel title does not resolve to the specified id. This may result in surprising behavior. We suggest making your title something that resolves to the specified id. See https://en.wikipedia.org/wiki/Clean_URL#Slug for more information on how slugs are determined.\n",
      "Kernel version 1 successfully pushed.  Please check progress at https://www.kaggle.com/code/xiaochuanyang/minmax-transform-and-histgbr-model\n"
     ]
    }
   ],
   "source": [
    "if not iskaggle:\n",
    "    push_notebook('xy', 'histgbr-minmax-transform',\n",
    "                  title='Minmax transform and HistGBR model',\n",
    "                  file='01-histgbr-minmax-transform.ipynb',\n",
    "                  competition=comp, private=False, gpu=False)"
   ]
  },
  {
   "cell_type": "code",
   "execution_count": null,
   "id": "29e901eb-2691-4216-a8f5-014ad9ea96f0",
   "metadata": {},
   "outputs": [],
   "source": []
  }
 ],
 "metadata": {
  "kernelspec": {
   "display_name": "python3",
   "language": "python",
   "name": "python3"
  }
 },
 "nbformat": 4,
 "nbformat_minor": 5
}
