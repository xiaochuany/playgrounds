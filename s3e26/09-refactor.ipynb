{
 "cells": [
  {
   "cell_type": "code",
   "execution_count": null,
   "id": "732f09f4",
   "metadata": {},
   "outputs": [],
   "source": [
    "# install fastkaggle if not available\n",
    "try: import fastkaggle\n",
    "except ModuleNotFoundError:\n",
    "    !pip install -Uq fastkaggle\n",
    "\n",
    "from fastkaggle import *"
   ]
  },
  {
   "cell_type": "markdown",
   "id": "f0f21256",
   "metadata": {},
   "source": [
    "## Getting set up"
   ]
  },
  {
   "cell_type": "code",
   "execution_count": null,
   "id": "70f2d75c",
   "metadata": {},
   "outputs": [],
   "source": [
    "comp = 'playground-series-s3e26'\n",
    "path = setup_comp(comp, install='')"
   ]
  },
  {
   "cell_type": "code",
   "execution_count": null,
   "id": "879f9000",
   "metadata": {},
   "outputs": [
    {
     "data": {
      "text/plain": [
       "Path('playground-series-s3e26')"
      ]
     },
     "execution_count": null,
     "metadata": {},
     "output_type": "execute_result"
    }
   ],
   "source": [
    "path"
   ]
  },
  {
   "cell_type": "code",
   "execution_count": null,
   "id": "1c8e2512",
   "metadata": {},
   "outputs": [],
   "source": [
    "trn_path = path/'train.csv'"
   ]
  },
  {
   "cell_type": "code",
   "execution_count": null,
   "id": "11b2bf25-d47e-4680-937e-838a258a0c20",
   "metadata": {},
   "outputs": [],
   "source": [
    "# !kaggle datasets download -d joebeachcapital/cirrhosis-patient-survival-prediction\n",
    "# !unzip cirrhosis-patient-survival-prediction.zip"
   ]
  },
  {
   "cell_type": "code",
   "execution_count": null,
   "id": "53eef354-27a0-4f22-8ded-70b3e8ff0df2",
   "metadata": {},
   "outputs": [],
   "source": [
    "import pandas as pd\n",
    "import numpy as np\n",
    "from sklearn.preprocessing import StandardScaler, RobustScaler, MinMaxScaler, FunctionTransformer, OneHotEncoder\n",
    "from sklearn.compose import make_column_transformer, make_column_selector\n",
    "from sklearn.pipeline import make_pipeline\n",
    "from sklearn.model_selection import train_test_split, RandomizedSearchCV, StratifiedKFold, cross_val_score, cross_validate\n",
    "from sklearn.ensemble import HistGradientBoostingRegressor, HistGradientBoostingClassifier\n",
    "from sklearn.metrics import make_scorer, mean_absolute_error, classification_report, log_loss\n",
    "from scipy.stats import loguniform\n",
    "\n",
    "from lightgbm import LGBMRegressor, LGBMClassifier, log_evaluation, early_stopping\n",
    "from xgboost import XGBRegressor, XGBClassifier\n",
    "from sklearn.model_selection import cross_val_score, KFold, StratifiedKFold, GroupKFold\n",
    "from tqdm import tqdm\n",
    "from functools import partial"
   ]
  },
  {
   "cell_type": "code",
   "execution_count": null,
   "id": "bca6b1cb-c469-4743-94bd-1b1a0b72d7f5",
   "metadata": {},
   "outputs": [],
   "source": [
    "def process0(df):\n",
    "    df_ = df.copy()\n",
    "    df_.Edema = df.Edema.map({'S':'Y', 'N':'N', 'Y':'Y'}) # must map all keys\n",
    "    return df_\n",
    "\n",
    "def process1(df):\n",
    "    df_ = df.copy()\n",
    "    df1 = pd.read_csv('cirrhosis.csv') # real data with nan\n",
    "    df1 = pd.concat([df1.drop('Status', axis=1), df1['Status']], axis=1)\n",
    "    df1.columns = df_.columns\n",
    "    dfall = pd.concat([df_,df1], axis=0).reset_index()\n",
    "    return dfall.iloc[:,1:-1], dfall.iloc[:,-1]\n",
    "\n",
    "def cv(X,y,cv=10):\n",
    "    clf = HistGradientBoostingClassifier(max_iter=10000, early_stopping=True, max_depth=9, n_iter_no_change=80,\n",
    "                                       l2_regularization=0, learning_rate=0.003)\n",
    "    ct = make_column_transformer(\n",
    "                (StandardScaler(), make_column_selector(dtype_include = np.number)),\n",
    "                (OneHotEncoder(drop='if_binary', handle_unknown='ignore'), make_column_selector(dtype_include=object)), \n",
    "                remainder = 'passthrough')\n",
    "    model = make_pipeline(ct, clf)\n",
    "    return cross_validate(model, X, y, cv=cv, scoring='neg_log_loss', return_estimator=True)"
   ]
  },
  {
   "cell_type": "code",
   "execution_count": null,
   "id": "5b6570fc-22f9-4da6-b22a-734369c39500",
   "metadata": {},
   "outputs": [
    {
     "name": "stderr",
     "output_type": "stream",
     "text": [
      "/home/xy/mambaforge/lib/python3.10/site-packages/sklearn/preprocessing/_encoders.py:228: UserWarning: Found unknown categories in columns [0, 2, 3, 4, 5] during transform. These unknown categories will be encoded as all zeros\n",
      "  warnings.warn(\n"
     ]
    }
   ],
   "source": [
    "df0 = pd.read_csv(trn_path)\n",
    "X, y = process1(process0(df0))\n",
    "cv_output = cv(X,y,2)"
   ]
  },
  {
   "cell_type": "code",
   "execution_count": null,
   "id": "bcc04f8d-7a2a-4433-907a-348db1906775",
   "metadata": {},
   "outputs": [
    {
     "data": {
      "text/plain": [
       "[989, 830]"
      ]
     },
     "execution_count": null,
     "metadata": {},
     "output_type": "execute_result"
    }
   ],
   "source": [
    "[est[-1].n_iter_ for est in cv_output['estimator']]"
   ]
  },
  {
   "cell_type": "code",
   "execution_count": null,
   "id": "41c1ddd0-075c-480e-a5d2-a12d863611e7",
   "metadata": {},
   "outputs": [
    {
     "data": {
      "text/plain": [
       "(0.4637160754318698, 0.010345952676830528)"
      ]
     },
     "execution_count": null,
     "metadata": {},
     "output_type": "execute_result"
    }
   ],
   "source": [
    "-cv_output['test_score'].mean(), cv_output['test_score'].std()"
   ]
  },
  {
   "cell_type": "markdown",
   "id": "2ab26601",
   "metadata": {},
   "source": [
    "## Submitting to Kaggle"
   ]
  },
  {
   "cell_type": "code",
   "execution_count": null,
   "id": "55cd25e5",
   "metadata": {},
   "outputs": [],
   "source": [
    "ss = pd.read_csv(path/'sample_submission.csv')"
   ]
  },
  {
   "cell_type": "code",
   "execution_count": null,
   "id": "266c32e1-a7cc-43b7-ac8b-cc0a8a5c8fa4",
   "metadata": {},
   "outputs": [
    {
     "data": {
      "text/html": [
       "<div>\n",
       "<style scoped>\n",
       "    .dataframe tbody tr th:only-of-type {\n",
       "        vertical-align: middle;\n",
       "    }\n",
       "\n",
       "    .dataframe tbody tr th {\n",
       "        vertical-align: top;\n",
       "    }\n",
       "\n",
       "    .dataframe thead th {\n",
       "        text-align: right;\n",
       "    }\n",
       "</style>\n",
       "<table border=\"1\" class=\"dataframe\">\n",
       "  <thead>\n",
       "    <tr style=\"text-align: right;\">\n",
       "      <th></th>\n",
       "      <th>id</th>\n",
       "      <th>N_Days</th>\n",
       "      <th>Drug</th>\n",
       "      <th>Age</th>\n",
       "      <th>Sex</th>\n",
       "      <th>Ascites</th>\n",
       "      <th>Hepatomegaly</th>\n",
       "      <th>Spiders</th>\n",
       "      <th>Edema</th>\n",
       "      <th>Bilirubin</th>\n",
       "      <th>Cholesterol</th>\n",
       "      <th>Albumin</th>\n",
       "      <th>Copper</th>\n",
       "      <th>Alk_Phos</th>\n",
       "      <th>SGOT</th>\n",
       "      <th>Tryglicerides</th>\n",
       "      <th>Platelets</th>\n",
       "      <th>Prothrombin</th>\n",
       "      <th>Stage</th>\n",
       "    </tr>\n",
       "  </thead>\n",
       "  <tbody>\n",
       "    <tr>\n",
       "      <th>0</th>\n",
       "      <td>7905</td>\n",
       "      <td>3839</td>\n",
       "      <td>D-penicillamine</td>\n",
       "      <td>19724</td>\n",
       "      <td>F</td>\n",
       "      <td>N</td>\n",
       "      <td>Y</td>\n",
       "      <td>N</td>\n",
       "      <td>N</td>\n",
       "      <td>1.2</td>\n",
       "      <td>546.0</td>\n",
       "      <td>3.37</td>\n",
       "      <td>65.0</td>\n",
       "      <td>1636.0</td>\n",
       "      <td>151.90</td>\n",
       "      <td>90.0</td>\n",
       "      <td>430.0</td>\n",
       "      <td>10.6</td>\n",
       "      <td>2.0</td>\n",
       "    </tr>\n",
       "    <tr>\n",
       "      <th>1</th>\n",
       "      <td>7906</td>\n",
       "      <td>2468</td>\n",
       "      <td>D-penicillamine</td>\n",
       "      <td>14975</td>\n",
       "      <td>F</td>\n",
       "      <td>N</td>\n",
       "      <td>N</td>\n",
       "      <td>N</td>\n",
       "      <td>N</td>\n",
       "      <td>1.1</td>\n",
       "      <td>660.0</td>\n",
       "      <td>4.22</td>\n",
       "      <td>94.0</td>\n",
       "      <td>1257.0</td>\n",
       "      <td>151.90</td>\n",
       "      <td>155.0</td>\n",
       "      <td>227.0</td>\n",
       "      <td>10.0</td>\n",
       "      <td>2.0</td>\n",
       "    </tr>\n",
       "    <tr>\n",
       "      <th>2</th>\n",
       "      <td>7907</td>\n",
       "      <td>51</td>\n",
       "      <td>Placebo</td>\n",
       "      <td>13149</td>\n",
       "      <td>F</td>\n",
       "      <td>N</td>\n",
       "      <td>Y</td>\n",
       "      <td>N</td>\n",
       "      <td>Y</td>\n",
       "      <td>2.0</td>\n",
       "      <td>151.0</td>\n",
       "      <td>2.96</td>\n",
       "      <td>46.0</td>\n",
       "      <td>961.0</td>\n",
       "      <td>69.75</td>\n",
       "      <td>101.0</td>\n",
       "      <td>213.0</td>\n",
       "      <td>13.0</td>\n",
       "      <td>4.0</td>\n",
       "    </tr>\n",
       "    <tr>\n",
       "      <th>3</th>\n",
       "      <td>7908</td>\n",
       "      <td>2330</td>\n",
       "      <td>D-penicillamine</td>\n",
       "      <td>20510</td>\n",
       "      <td>F</td>\n",
       "      <td>N</td>\n",
       "      <td>N</td>\n",
       "      <td>N</td>\n",
       "      <td>N</td>\n",
       "      <td>0.6</td>\n",
       "      <td>293.0</td>\n",
       "      <td>3.85</td>\n",
       "      <td>40.0</td>\n",
       "      <td>554.0</td>\n",
       "      <td>125.55</td>\n",
       "      <td>56.0</td>\n",
       "      <td>270.0</td>\n",
       "      <td>10.6</td>\n",
       "      <td>2.0</td>\n",
       "    </tr>\n",
       "    <tr>\n",
       "      <th>4</th>\n",
       "      <td>7909</td>\n",
       "      <td>1615</td>\n",
       "      <td>D-penicillamine</td>\n",
       "      <td>21904</td>\n",
       "      <td>F</td>\n",
       "      <td>N</td>\n",
       "      <td>Y</td>\n",
       "      <td>N</td>\n",
       "      <td>N</td>\n",
       "      <td>1.4</td>\n",
       "      <td>277.0</td>\n",
       "      <td>2.97</td>\n",
       "      <td>121.0</td>\n",
       "      <td>1110.0</td>\n",
       "      <td>125.00</td>\n",
       "      <td>126.0</td>\n",
       "      <td>221.0</td>\n",
       "      <td>9.8</td>\n",
       "      <td>1.0</td>\n",
       "    </tr>\n",
       "  </tbody>\n",
       "</table>\n",
       "</div>"
      ],
      "text/plain": [
       "     id  N_Days             Drug    Age Sex Ascites Hepatomegaly Spiders  \\\n",
       "0  7905    3839  D-penicillamine  19724   F       N            Y       N   \n",
       "1  7906    2468  D-penicillamine  14975   F       N            N       N   \n",
       "2  7907      51          Placebo  13149   F       N            Y       N   \n",
       "3  7908    2330  D-penicillamine  20510   F       N            N       N   \n",
       "4  7909    1615  D-penicillamine  21904   F       N            Y       N   \n",
       "\n",
       "  Edema  Bilirubin  Cholesterol  Albumin  Copper  Alk_Phos    SGOT  \\\n",
       "0     N        1.2        546.0     3.37    65.0    1636.0  151.90   \n",
       "1     N        1.1        660.0     4.22    94.0    1257.0  151.90   \n",
       "2     Y        2.0        151.0     2.96    46.0     961.0   69.75   \n",
       "3     N        0.6        293.0     3.85    40.0     554.0  125.55   \n",
       "4     N        1.4        277.0     2.97   121.0    1110.0  125.00   \n",
       "\n",
       "   Tryglicerides  Platelets  Prothrombin  Stage  \n",
       "0           90.0      430.0         10.6    2.0  \n",
       "1          155.0      227.0         10.0    2.0  \n",
       "2          101.0      213.0         13.0    4.0  \n",
       "3           56.0      270.0         10.6    2.0  \n",
       "4          126.0      221.0          9.8    1.0  "
      ]
     },
     "execution_count": null,
     "metadata": {},
     "output_type": "execute_result"
    }
   ],
   "source": [
    "tst = pd.read_csv(path/'test.csv')\n",
    "tst = process0(tst)\n",
    "tst.head()"
   ]
  },
  {
   "cell_type": "code",
   "execution_count": null,
   "id": "48406c30-8f65-41e2-89d9-b7d888179b45",
   "metadata": {},
   "outputs": [],
   "source": [
    "tst_pred = np.stack([est.predict_proba(tst.iloc[:,1:]) for est in cv_scores['estimator']]).mean(0)"
   ]
  },
  {
   "cell_type": "code",
   "execution_count": null,
   "id": "e91d57bd-d75a-4936-a374-6ec7f1a4611d",
   "metadata": {},
   "outputs": [],
   "source": [
    "ss.iloc[:,1:] = tst_pred"
   ]
  },
  {
   "cell_type": "code",
   "execution_count": null,
   "id": "7e0e2530-f81c-4cac-a13a-4a68757757a4",
   "metadata": {},
   "outputs": [
    {
     "data": {
      "text/html": [
       "<div>\n",
       "<style scoped>\n",
       "    .dataframe tbody tr th:only-of-type {\n",
       "        vertical-align: middle;\n",
       "    }\n",
       "\n",
       "    .dataframe tbody tr th {\n",
       "        vertical-align: top;\n",
       "    }\n",
       "\n",
       "    .dataframe thead th {\n",
       "        text-align: right;\n",
       "    }\n",
       "</style>\n",
       "<table border=\"1\" class=\"dataframe\">\n",
       "  <thead>\n",
       "    <tr style=\"text-align: right;\">\n",
       "      <th></th>\n",
       "      <th>id</th>\n",
       "      <th>Status_C</th>\n",
       "      <th>Status_CL</th>\n",
       "      <th>Status_D</th>\n",
       "    </tr>\n",
       "  </thead>\n",
       "  <tbody>\n",
       "    <tr>\n",
       "      <th>0</th>\n",
       "      <td>7905</td>\n",
       "      <td>0.658597</td>\n",
       "      <td>0.023611</td>\n",
       "      <td>0.317793</td>\n",
       "    </tr>\n",
       "    <tr>\n",
       "      <th>1</th>\n",
       "      <td>7906</td>\n",
       "      <td>0.658392</td>\n",
       "      <td>0.148905</td>\n",
       "      <td>0.192703</td>\n",
       "    </tr>\n",
       "    <tr>\n",
       "      <th>2</th>\n",
       "      <td>7907</td>\n",
       "      <td>0.029770</td>\n",
       "      <td>0.007689</td>\n",
       "      <td>0.962541</td>\n",
       "    </tr>\n",
       "    <tr>\n",
       "      <th>3</th>\n",
       "      <td>7908</td>\n",
       "      <td>0.947984</td>\n",
       "      <td>0.005454</td>\n",
       "      <td>0.046562</td>\n",
       "    </tr>\n",
       "    <tr>\n",
       "      <th>4</th>\n",
       "      <td>7909</td>\n",
       "      <td>0.848559</td>\n",
       "      <td>0.020134</td>\n",
       "      <td>0.131307</td>\n",
       "    </tr>\n",
       "    <tr>\n",
       "      <th>...</th>\n",
       "      <td>...</td>\n",
       "      <td>...</td>\n",
       "      <td>...</td>\n",
       "      <td>...</td>\n",
       "    </tr>\n",
       "    <tr>\n",
       "      <th>5266</th>\n",
       "      <td>13171</td>\n",
       "      <td>0.858965</td>\n",
       "      <td>0.052650</td>\n",
       "      <td>0.088385</td>\n",
       "    </tr>\n",
       "    <tr>\n",
       "      <th>5267</th>\n",
       "      <td>13172</td>\n",
       "      <td>0.973912</td>\n",
       "      <td>0.002076</td>\n",
       "      <td>0.024013</td>\n",
       "    </tr>\n",
       "    <tr>\n",
       "      <th>5268</th>\n",
       "      <td>13173</td>\n",
       "      <td>0.908381</td>\n",
       "      <td>0.006511</td>\n",
       "      <td>0.085108</td>\n",
       "    </tr>\n",
       "    <tr>\n",
       "      <th>5269</th>\n",
       "      <td>13174</td>\n",
       "      <td>0.986082</td>\n",
       "      <td>0.004135</td>\n",
       "      <td>0.009782</td>\n",
       "    </tr>\n",
       "    <tr>\n",
       "      <th>5270</th>\n",
       "      <td>13175</td>\n",
       "      <td>0.267240</td>\n",
       "      <td>0.007974</td>\n",
       "      <td>0.724786</td>\n",
       "    </tr>\n",
       "  </tbody>\n",
       "</table>\n",
       "<p>5271 rows × 4 columns</p>\n",
       "</div>"
      ],
      "text/plain": [
       "         id  Status_C  Status_CL  Status_D\n",
       "0      7905  0.658597   0.023611  0.317793\n",
       "1      7906  0.658392   0.148905  0.192703\n",
       "2      7907  0.029770   0.007689  0.962541\n",
       "3      7908  0.947984   0.005454  0.046562\n",
       "4      7909  0.848559   0.020134  0.131307\n",
       "...     ...       ...        ...       ...\n",
       "5266  13171  0.858965   0.052650  0.088385\n",
       "5267  13172  0.973912   0.002076  0.024013\n",
       "5268  13173  0.908381   0.006511  0.085108\n",
       "5269  13174  0.986082   0.004135  0.009782\n",
       "5270  13175  0.267240   0.007974  0.724786\n",
       "\n",
       "[5271 rows x 4 columns]"
      ]
     },
     "execution_count": null,
     "metadata": {},
     "output_type": "execute_result"
    }
   ],
   "source": [
    "ss"
   ]
  },
  {
   "cell_type": "code",
   "execution_count": null,
   "id": "35172dac-97be-425c-b3db-a73e7950e2d2",
   "metadata": {},
   "outputs": [
    {
     "name": "stdout",
     "output_type": "stream",
     "text": [
      "id,Status_C,Status_CL,Status_D\n",
      "7905,0.6585967923278477,0.0236105280569404,0.31779267961521185\n",
      "7906,0.6583920450680791,0.1489046351929898,0.19270331973893112\n",
      "7907,0.02976976048464016,0.007688793470031397,0.9625414460453283\n",
      "7908,0.9479842520902741,0.005453621777507351,0.04656212613221872\n",
      "7909,0.8485589127577186,0.0201340869956581,0.1313070002466234\n",
      "7910,0.989160120181628,0.001009049802486992,0.009830830015884882\n",
      "7911,0.971822705243557,0.00226932554434143,0.025907969212101617\n",
      "7912,0.24390630777922007,0.015294774546351109,0.740798917674429\n",
      "7913,0.01393415691125784,0.001021372667054665,0.9850444704216874\n"
     ]
    }
   ],
   "source": [
    "ss.to_csv('subm.csv', index=False)\n",
    "!head subm.csv"
   ]
  },
  {
   "cell_type": "code",
   "execution_count": null,
   "id": "ed52342c",
   "metadata": {},
   "outputs": [
    {
     "name": "stderr",
     "output_type": "stream",
     "text": [
      "100%|█████████████████████| 336k/336k [00:01<00:00, 334kB/s]\n"
     ]
    }
   ],
   "source": [
    "if not iskaggle:\n",
    "    from kaggle import api\n",
    "    api.competition_submit_cli('subm.csv', 'decrease lr', comp)"
   ]
  },
  {
   "cell_type": "code",
   "execution_count": null,
   "id": "064f743e-1bfd-4acb-a147-9d3498fbdcfa",
   "metadata": {},
   "outputs": [],
   "source": [
    "# !kaggle competitions submit -c playground-series-s3e26 -f subm.csv -m 'avg cv estimators'"
   ]
  },
  {
   "cell_type": "markdown",
   "id": "e04efcc0",
   "metadata": {},
   "source": [
    "## Conclusion"
   ]
  },
  {
   "cell_type": "markdown",
   "id": "a972c10e",
   "metadata": {},
   "source": [
    "## Addendum"
   ]
  },
  {
   "cell_type": "code",
   "execution_count": null,
   "id": "bd2148d7",
   "metadata": {},
   "outputs": [
    {
     "name": "stdout",
     "output_type": "stream",
     "text": [
      "Your kernel title does not resolve to the specified id. This may result in surprising behavior. We suggest making your title something that resolves to the specified id. See https://en.wikipedia.org/wiki/Clean_URL#Slug for more information on how slugs are determined.\n",
      "Kernel version 1 successfully pushed.  Please check progress at https://www.kaggle.com/code/xiaochuanyang/minmax-transform-and-histgbr-model\n"
     ]
    }
   ],
   "source": [
    "if not iskaggle:\n",
    "    push_notebook('xy', 'histgbr-minmax-transform',\n",
    "                  title='Minmax transform and HistGBR model',\n",
    "                  file='01-histgbr-minmax-transform.ipynb',\n",
    "                  competition=comp, private=False, gpu=False)"
   ]
  },
  {
   "cell_type": "code",
   "execution_count": null,
   "id": "29e901eb-2691-4216-a8f5-014ad9ea96f0",
   "metadata": {},
   "outputs": [],
   "source": []
  }
 ],
 "metadata": {
  "kernelspec": {
   "display_name": "python3",
   "language": "python",
   "name": "python3"
  }
 },
 "nbformat": 4,
 "nbformat_minor": 5
}
